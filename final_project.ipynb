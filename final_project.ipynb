{
 "cells": [
  {
   "cell_type": "markdown",
   "metadata": {},
   "source": [
    "## MEAM 5170 Final Project Group 17 \n",
    "Shreya Lanjewar, Nikola Obradovic, Emily Paul\n",
    "\n",
    "\n",
    "### Useful links:\n",
    "https://drake.guzhaoyuan.com/introduction/drake-simulation"
   ]
  },
  {
   "cell_type": "code",
   "execution_count": null,
   "metadata": {},
   "outputs": [],
   "source": []
  }
 ],
 "metadata": {
  "language_info": {
   "name": "python"
  }
 },
 "nbformat": 4,
 "nbformat_minor": 2
}
