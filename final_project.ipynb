{
 "cells": [
  {
   "cell_type": "markdown",
   "metadata": {},
   "source": [
    "## MEAM 5170 Final Project Group 17 \n",
    "Shreya Lanjewar, Nikola Obradovic, Emily Paul"
   ]
  },
  {
   "cell_type": "code",
   "execution_count": 6,
   "metadata": {},
   "outputs": [
    {
     "data": {
      "image/png": "[encoded data removed]",
      "text/plain": [
       "<Figure size 640x480 with 1 Axes>"
      ]
     },
     "metadata": {},
     "output_type": "display_data"
    }
   ],
   "source": [
    "import numpy as np\n",
    "import matplotlib.pyplot as plt\n",
    "from IPython.display import HTML\n",
    "from pydrake.all import (MultibodyPlant, Parser, RigidTransform)\n",
    "import acrobot, acrobot_sim, visualizer, environment, controllers\n",
    "import importlib\n",
    "importlib.reload(acrobot)\n",
    "importlib.reload(acrobot_sim)\n",
    "importlib.reload(visualizer)\n",
    "importlib.reload(environment)\n",
    "importlib.reload(controllers)\n",
    "from acrobot_sim import simulate_acrobot\n",
    "from acrobot import Acrobot\n",
    "from visualizer import AcrobotVisualizer, create_animation\n",
    "from environment import Environment, Hold\n",
    "from controllers import *\n",
    "\n",
    "plant = MultibodyPlant(time_step=0)\n",
    "parser = Parser(plant)\n",
    "parser.AddModels(\"acrobot.urdf\")\n",
    "plant.WeldFrames(\n",
    "    plant.world_frame(),\n",
    "    plant.GetBodyByName(\"base\").body_frame(),\n",
    "    RigidTransform.Identity()\n",
    ")\n",
    "plant.Finalize()\n",
    "\n",
    "bot = Acrobot(plant)\n",
    "env = Environment(-5, 5, -5, 5, 0.3)\n",
    "env.generate_single_hold(bot.l1 + bot.l2)\n",
    "controller = ZeroController(bot)\n",
    "\n",
    "\n",
    "x, u, t = simulate_acrobot(np.array([np.pi/2, np.pi/16, 0, 0]), 10, bot,\n",
    "                           controller)\n",
    "\n",
    "viz = AcrobotVisualizer(bot, env)\n",
    "viz.draw(x[0,:], t[0])\n",
    "# ani = create_animation(viz,x,t)\n",
    "# plt.close()\n",
    "# HTML(ani.to_jshtml())\n",
    "\n",
    "# fig1 = plt.figure(figsize=(4,3))\n",
    "# plt.plot(t, x[:,0], label='x_0')\n",
    "# plt.plot(t, x[:,1], label='x_1')\n",
    "# plt.plot(t, x[:,2], label='x_2')\n",
    "# plt.plot(t, x[:,3], label='x_3')\n",
    "# plt.legend()\n"
   ]
  },
  {
   "cell_type": "code",
   "execution_count": 14,
   "metadata": {},
   "outputs": [],
   "source": [
    "import matplotlib.animation as animation\n",
    "\n",
    "f = r\"animation.gif\" \n",
    "writergif = animation.PillowWriter(fps=50) \n",
    "ani.save(f, writer=writergif)"
   ]
  }
 ],
 "metadata": {
  "kernelspec": {
   "display_name": "Python 3",
   "language": "python",
   "name": "python3"
  },
  "language_info": {
   "codemirror_mode": {
    "name": "ipython",
    "version": 3
   },
   "file_extension": ".py",
   "mimetype": "text/x-python",
   "name": "python",
   "nbconvert_exporter": "python",
   "pygments_lexer": "ipython3",
   "version": "3.8.10"
  }
 },
 "nbformat": 4,
 "nbformat_minor": 2
}
