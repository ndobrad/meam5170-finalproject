{
 "cells": [
  {
   "cell_type": "markdown",
   "metadata": {},
   "source": [
    "## MEAM 5170 Final Project Group 17 \n",
    "Shreya Lanjewar, Nikola Obradovic, Emily Paul\n",
    "\n",
    "\n",
    "### Useful links:\n",
    "https://drake.guzhaoyuan.com/introduction/drake-simulation"
   ]
  },
  {
   "cell_type": "code",
   "execution_count": null,
   "metadata": {},
   "outputs": [
    {
     "ename": "SystemExit",
     "evalue": "Failure at bazel-out/k8-opt/bin/tools/install/libdrake/_virtual_includes/drake_shared_library/drake/multibody/plant/multibody_plant.h:2600 in SetPositions(): condition 'q.size() == num_positions()' failed.",
     "output_type": "error",
     "traceback": [
      "An exception has occurred, use %tb to see the full traceback.\n",
      "\u001b[0;31mSystemExit\u001b[0m\u001b[0;31m:\u001b[0m Failure at bazel-out/k8-opt/bin/tools/install/libdrake/_virtual_includes/drake_shared_library/drake/multibody/plant/multibody_plant.h:2600 in SetPositions(): condition 'q.size() == num_positions()' failed.\n"
     ]
    }
   ],
   "source": [
    "import numpy as np\n",
    "import math\n",
    "from pydrake.all import (MultibodyPlant, Parser, RigidTransform)\n",
    "import acrobot, acrobot_sim\n",
    "import importlib\n",
    "importlib.reload(acrobot)\n",
    "importlib.reload(acrobot_sim)\n",
    "from acrobot_sim import simulate_acrobot\n",
    "from acrobot import Acrobot\n",
    "\n",
    "plant = MultibodyPlant(time_step=0)\n",
    "parser = Parser(plant)\n",
    "parser.AddModels(\"acrobot.urdf\")\n",
    "plant.WeldFrames(\n",
    "    plant.world_frame(),\n",
    "    plant.GetBodyByName(\"base\").body_frame(),\n",
    "    RigidTransform.Identity()\n",
    ")\n",
    "plant.Finalize()\n",
    "\n",
    "bot = Acrobot(plant, None, None, None)\n",
    "\n",
    "\n",
    "x, u, t = simulate_acrobot(np.array([math.pi/2, math.pi/8, 0, 0]), 10, bot)\n"
   ]
  }
 ],
 "metadata": {
  "kernelspec": {
   "display_name": "Python 3",
   "language": "python",
   "name": "python3"
  },
  "language_info": {
   "codemirror_mode": {
    "name": "ipython",
    "version": 3
   },
   "file_extension": ".py",
   "mimetype": "text/x-python",
   "name": "python",
   "nbconvert_exporter": "python",
   "pygments_lexer": "ipython3",
   "version": "3.8.10"
  }
 },
 "nbformat": 4,
 "nbformat_minor": 2
}
